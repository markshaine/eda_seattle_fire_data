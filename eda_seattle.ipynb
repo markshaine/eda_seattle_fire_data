{
 "cells": [
  {
   "cell_type": "code",
   "execution_count": 1,
   "id": "103bc5da-d934-49e4-9da3-2fe4895a57bf",
   "metadata": {},
   "outputs": [],
   "source": [
    "#import necessary libraries\n",
    "\n",
    "import pandas as pd\n",
    "import numpy as np\n",
    "import matplotlib.pyplot as plt\n",
    "import seaborn as sns\n",
    "\n",
    "#read csv file\n",
    "data = pd.read_csv('Seattle_Real_Time_Fire_911_Calls.csv')"
   ]
  },
  {
   "cell_type": "code",
   "execution_count": 2,
   "id": "7d876f2c-e878-4584-8fb9-2248b596b81f",
   "metadata": {},
   "outputs": [
    {
     "name": "stdout",
     "output_type": "stream",
     "text": [
      "                 Address          Type                Datetime   Latitude  \\\n",
      "0             904 7th Av      Car Fire  05/22/2019 12:55:00 PM  47.606900   \n",
      "1         9610 53rd Av S  Aid Response  05/22/2019 12:55:00 PM  47.515984   \n",
      "2            106 Pike St  Aid Response  05/22/2019 12:57:00 PM  47.608849   \n",
      "3            1902 2nd Av  Aid Response  07/01/2019 07:45:00 AM  47.610972   \n",
      "4  4737 Roosevelt Way Ne      Unk Odor  07/01/2019 07:45:00 AM  47.663338   \n",
      "\n",
      "    Longitude                Report Location Incident Number  \n",
      "0 -122.329051    POINT (-122.329051 47.6069)      F190051945  \n",
      "1 -122.266529  POINT (-122.266529 47.515984)      F190051946  \n",
      "2 -122.339945  POINT (-122.339945 47.608849)      F190051950  \n",
      "3 -122.340465  POINT (-122.340465 47.610972)      F190068848  \n",
      "4 -122.317421  POINT (-122.317421 47.663338)      F190068849  \n"
     ]
    }
   ],
   "source": [
    "#print first and last rows of the data\n",
    "print(data.head())"
   ]
  },
  {
   "cell_type": "code",
   "execution_count": 3,
   "id": "65daf6e4-6c28-493b-b362-57f1df744457",
   "metadata": {},
   "outputs": [
    {
     "name": "stdout",
     "output_type": "stream",
     "text": [
      "<class 'pandas.core.frame.DataFrame'>\n",
      "RangeIndex: 838057 entries, 0 to 838056\n",
      "Data columns (total 7 columns):\n",
      " #   Column           Non-Null Count   Dtype  \n",
      "---  ------           --------------   -----  \n",
      " 0   Address          838050 non-null  object \n",
      " 1   Type             838053 non-null  object \n",
      " 2   Datetime         838053 non-null  object \n",
      " 3   Latitude         838048 non-null  float64\n",
      " 4   Longitude        838048 non-null  float64\n",
      " 5   Report Location  838048 non-null  object \n",
      " 6   Incident Number  838052 non-null  object \n",
      "dtypes: float64(2), object(5)\n",
      "memory usage: 44.8+ MB\n",
      "None\n"
     ]
    }
   ],
   "source": [
    "# Get a summary of the dataset\n",
    "print(data.info())"
   ]
  },
  {
   "cell_type": "code",
   "execution_count": 4,
   "id": "ac658e43-a712-4fb8-a2b4-f1ca15473d9d",
   "metadata": {},
   "outputs": [
    {
     "name": "stdout",
     "output_type": "stream",
     "text": [
      "            Latitude      Longitude\n",
      "count  838048.000000  838048.000000\n",
      "mean       47.620251    -122.330887\n",
      "std         0.055893       0.031763\n",
      "min        47.258946    -122.454987\n",
      "25%        47.587553    -122.349576\n",
      "50%        47.613831    -122.330457\n",
      "75%        47.663074    -122.311456\n",
      "max        47.776695    -122.031332\n"
     ]
    }
   ],
   "source": [
    "# Check basic statistics of the numerical variables\n",
    "print(data.describe())"
   ]
  },
  {
   "cell_type": "code",
   "execution_count": 5,
   "id": "2c13a167-6d16-418e-845d-d5a7cb958a6b",
   "metadata": {},
   "outputs": [
    {
     "name": "stdout",
     "output_type": "stream",
     "text": [
      "Address            7\n",
      "Type               4\n",
      "Datetime           4\n",
      "Latitude           9\n",
      "Longitude          9\n",
      "Report Location    9\n",
      "Incident Number    5\n",
      "dtype: int64\n"
     ]
    },
    {
     "data": {
      "text/html": [
       "<div>\n",
       "<style scoped>\n",
       "    .dataframe tbody tr th:only-of-type {\n",
       "        vertical-align: middle;\n",
       "    }\n",
       "\n",
       "    .dataframe tbody tr th {\n",
       "        vertical-align: top;\n",
       "    }\n",
       "\n",
       "    .dataframe thead th {\n",
       "        text-align: right;\n",
       "    }\n",
       "</style>\n",
       "<table border=\"1\" class=\"dataframe\">\n",
       "  <thead>\n",
       "    <tr style=\"text-align: right;\">\n",
       "      <th></th>\n",
       "      <th>Address</th>\n",
       "      <th>Type</th>\n",
       "      <th>Datetime</th>\n",
       "      <th>Latitude</th>\n",
       "      <th>Longitude</th>\n",
       "      <th>Report Location</th>\n",
       "      <th>Incident Number</th>\n",
       "    </tr>\n",
       "  </thead>\n",
       "  <tbody>\n",
       "    <tr>\n",
       "      <th>0</th>\n",
       "      <td>904 7th Av</td>\n",
       "      <td>Car Fire</td>\n",
       "      <td>05/22/2019 12:55:00 PM</td>\n",
       "      <td>47.606900</td>\n",
       "      <td>-122.329051</td>\n",
       "      <td>POINT (-122.329051 47.6069)</td>\n",
       "      <td>F190051945</td>\n",
       "    </tr>\n",
       "    <tr>\n",
       "      <th>1</th>\n",
       "      <td>9610 53rd Av S</td>\n",
       "      <td>Aid Response</td>\n",
       "      <td>05/22/2019 12:55:00 PM</td>\n",
       "      <td>47.515984</td>\n",
       "      <td>-122.266529</td>\n",
       "      <td>POINT (-122.266529 47.515984)</td>\n",
       "      <td>F190051946</td>\n",
       "    </tr>\n",
       "    <tr>\n",
       "      <th>2</th>\n",
       "      <td>106 Pike St</td>\n",
       "      <td>Aid Response</td>\n",
       "      <td>05/22/2019 12:57:00 PM</td>\n",
       "      <td>47.608849</td>\n",
       "      <td>-122.339945</td>\n",
       "      <td>POINT (-122.339945 47.608849)</td>\n",
       "      <td>F190051950</td>\n",
       "    </tr>\n",
       "    <tr>\n",
       "      <th>3</th>\n",
       "      <td>1902 2nd Av</td>\n",
       "      <td>Aid Response</td>\n",
       "      <td>07/01/2019 07:45:00 AM</td>\n",
       "      <td>47.610972</td>\n",
       "      <td>-122.340465</td>\n",
       "      <td>POINT (-122.340465 47.610972)</td>\n",
       "      <td>F190068848</td>\n",
       "    </tr>\n",
       "    <tr>\n",
       "      <th>4</th>\n",
       "      <td>4737 Roosevelt Way Ne</td>\n",
       "      <td>Unk Odor</td>\n",
       "      <td>07/01/2019 07:45:00 AM</td>\n",
       "      <td>47.663338</td>\n",
       "      <td>-122.317421</td>\n",
       "      <td>POINT (-122.317421 47.663338)</td>\n",
       "      <td>F190068849</td>\n",
       "    </tr>\n",
       "    <tr>\n",
       "      <th>...</th>\n",
       "      <td>...</td>\n",
       "      <td>...</td>\n",
       "      <td>...</td>\n",
       "      <td>...</td>\n",
       "      <td>...</td>\n",
       "      <td>...</td>\n",
       "      <td>...</td>\n",
       "    </tr>\n",
       "    <tr>\n",
       "      <th>838047</th>\n",
       "      <td>500 5th Av</td>\n",
       "      <td>Medic Response</td>\n",
       "      <td>02/02/2014 02:22:49 PM</td>\n",
       "      <td>47.602985</td>\n",
       "      <td>-122.328535</td>\n",
       "      <td>POINT (-122.328535 47.602985)</td>\n",
       "      <td>F140011854</td>\n",
       "    </tr>\n",
       "    <tr>\n",
       "      <th>838048</th>\n",
       "      <td>5th Av S / S Cloverdale St</td>\n",
       "      <td>Motor Vehicle Accident</td>\n",
       "      <td>02/02/2014 02:24:05 PM</td>\n",
       "      <td>47.526481</td>\n",
       "      <td>-122.328199</td>\n",
       "      <td>POINT (-122.328199 47.526481)</td>\n",
       "      <td>F140011855</td>\n",
       "    </tr>\n",
       "    <tr>\n",
       "      <th>838049</th>\n",
       "      <td>1401 Broadway</td>\n",
       "      <td>Aid Response</td>\n",
       "      <td>02/02/2014 02:28:42 PM</td>\n",
       "      <td>47.612963</td>\n",
       "      <td>-122.320762</td>\n",
       "      <td>POINT (-122.320762 47.612963)</td>\n",
       "      <td>F140011856</td>\n",
       "    </tr>\n",
       "    <tr>\n",
       "      <th>838050</th>\n",
       "      <td>2121 26th Av S</td>\n",
       "      <td>Auto Fire Alarm</td>\n",
       "      <td>02/02/2014 02:30:26 PM</td>\n",
       "      <td>47.584234</td>\n",
       "      <td>-122.299024</td>\n",
       "      <td>POINT (-122.299024 47.584234)</td>\n",
       "      <td>F140011858</td>\n",
       "    </tr>\n",
       "    <tr>\n",
       "      <th>838051</th>\n",
       "      <td>9440 27th Av Sw</td>\n",
       "      <td>Medic Response</td>\n",
       "      <td>02/02/2014 02:35:42 PM</td>\n",
       "      <td>47.518457</td>\n",
       "      <td>-122.367275</td>\n",
       "      <td>POINT (-122.367275 47.518457)</td>\n",
       "      <td>F140011859</td>\n",
       "    </tr>\n",
       "  </tbody>\n",
       "</table>\n",
       "<p>838040 rows × 7 columns</p>\n",
       "</div>"
      ],
      "text/plain": [
       "                           Address                    Type  \\\n",
       "0                       904 7th Av                Car Fire   \n",
       "1                   9610 53rd Av S            Aid Response   \n",
       "2                      106 Pike St            Aid Response   \n",
       "3                      1902 2nd Av            Aid Response   \n",
       "4            4737 Roosevelt Way Ne                Unk Odor   \n",
       "...                            ...                     ...   \n",
       "838047                  500 5th Av          Medic Response   \n",
       "838048  5th Av S / S Cloverdale St  Motor Vehicle Accident   \n",
       "838049               1401 Broadway            Aid Response   \n",
       "838050              2121 26th Av S         Auto Fire Alarm   \n",
       "838051             9440 27th Av Sw          Medic Response   \n",
       "\n",
       "                      Datetime   Latitude   Longitude  \\\n",
       "0       05/22/2019 12:55:00 PM  47.606900 -122.329051   \n",
       "1       05/22/2019 12:55:00 PM  47.515984 -122.266529   \n",
       "2       05/22/2019 12:57:00 PM  47.608849 -122.339945   \n",
       "3       07/01/2019 07:45:00 AM  47.610972 -122.340465   \n",
       "4       07/01/2019 07:45:00 AM  47.663338 -122.317421   \n",
       "...                        ...        ...         ...   \n",
       "838047  02/02/2014 02:22:49 PM  47.602985 -122.328535   \n",
       "838048  02/02/2014 02:24:05 PM  47.526481 -122.328199   \n",
       "838049  02/02/2014 02:28:42 PM  47.612963 -122.320762   \n",
       "838050  02/02/2014 02:30:26 PM  47.584234 -122.299024   \n",
       "838051  02/02/2014 02:35:42 PM  47.518457 -122.367275   \n",
       "\n",
       "                      Report Location Incident Number  \n",
       "0         POINT (-122.329051 47.6069)      F190051945  \n",
       "1       POINT (-122.266529 47.515984)      F190051946  \n",
       "2       POINT (-122.339945 47.608849)      F190051950  \n",
       "3       POINT (-122.340465 47.610972)      F190068848  \n",
       "4       POINT (-122.317421 47.663338)      F190068849  \n",
       "...                               ...             ...  \n",
       "838047  POINT (-122.328535 47.602985)      F140011854  \n",
       "838048  POINT (-122.328199 47.526481)      F140011855  \n",
       "838049  POINT (-122.320762 47.612963)      F140011856  \n",
       "838050  POINT (-122.299024 47.584234)      F140011858  \n",
       "838051  POINT (-122.367275 47.518457)      F140011859  \n",
       "\n",
       "[838040 rows x 7 columns]"
      ]
     },
     "execution_count": 5,
     "metadata": {},
     "output_type": "execute_result"
    }
   ],
   "source": [
    "# Check for missing values\n",
    "print(data.isnull().sum())\n",
    "data.dropna()"
   ]
  },
  {
   "cell_type": "code",
   "execution_count": null,
   "id": "f3673b33-793c-4115-a9f7-bf31d875ebe7",
   "metadata": {},
   "outputs": [],
   "source": [
    "sns.histplot(data['Datetime'], kde=True)\n",
    "plt.show()"
   ]
  },
  {
   "cell_type": "code",
   "execution_count": null,
   "id": "6d53b819-bfe9-4bb1-97be-b3a495c30451",
   "metadata": {},
   "outputs": [],
   "source": [
    "sns.histplot(data['Latitude'], kde=True)\n",
    "plt.show()"
   ]
  },
  {
   "cell_type": "code",
   "execution_count": null,
   "id": "01d6675f-bee1-4637-a6eb-f07fb3a31dde",
   "metadata": {},
   "outputs": [],
   "source": [
    "sns.histplot(data['Longitude'], kde=True)\n",
    "plt.show()"
   ]
  },
  {
   "cell_type": "code",
   "execution_count": null,
   "id": "c394f622-7b96-4483-a9d3-ac20d8a494dd",
   "metadata": {},
   "outputs": [],
   "source": [
    "sns.boxplot(x='Latitude', data=data)\n",
    "plt.show()"
   ]
  },
  {
   "cell_type": "code",
   "execution_count": null,
   "id": "b692ad17-18c4-492b-a31f-c5b5fc896600",
   "metadata": {},
   "outputs": [],
   "source": [
    "sns.boxplot(x='Longitude', data=data)\n",
    "plt.show()"
   ]
  },
  {
   "cell_type": "code",
   "execution_count": null,
   "id": "561b1090-bafa-422a-9d27-9482344886a5",
   "metadata": {},
   "outputs": [],
   "source": [
    "plt.scatter(data['Latitude'], data['Longitude'])\n",
    "plt.xlabel('Latitude')\n",
    "plt.ylabel('Longitude')\n",
    "plt.show()"
   ]
  },
  {
   "cell_type": "code",
   "execution_count": null,
   "id": "5e6fc028-f293-466f-92f9-ad772c3f3f76",
   "metadata": {},
   "outputs": [],
   "source": [
    "# convert to datetime\n",
    "data[\"Datetime\"] = pd.to_datetime(data[\"Datetime\"])\n",
    "data[\"DayOfWeek\"] = data[\"Datetime\"].dt.weekday\n",
    "data[\"IsWeekend\"] = data[\"DayOfWeek\"] >= 5\n",
    "\n",
    "# Count incidents by weekday/weekend\n",
    "incident_counts = data.groupby('IsWeekend')['Incident Number'].count()\n",
    "\n",
    "# Create a bar plot\n",
    "sns.barplot(x=incident_counts.index, y=incident_counts.values)\n",
    "plt.xticks([0, 1], ['Weekday', 'Weekend'])\n",
    "plt.xlabel('Day Type')\n",
    "plt.ylabel('Incident Count')\n",
    "plt.title('Incidents on Weekdays vs. Weekends')\n",
    "plt.show()"
   ]
  },
  {
   "cell_type": "code",
   "execution_count": null,
   "id": "77b5739f-26df-4c20-a8a6-1275dce907d9",
   "metadata": {},
   "outputs": [],
   "source": [
    "#top regions\n",
    "top_regions_total = data['Address'].value_counts().head(5)\n",
    "#top jurisdictions\n",
    "top_regions_jurisdiction = data.groupby('Address')['Incident Number'].count().nlargest(5)\n",
    "#incidents per year\n",
    "data['Year'] = pd.to_datetime(data['Datetime']).dt.year\n",
    "top_regions_yearly = data.groupby(['Year', 'Address'])['Incident Number'].count().groupby(level=0, group_keys=False).nlargest(5)\n",
    "#incidents per month\n",
    "data['Month'] = pd.to_datetime(data['Datetime']).dt.month\n",
    "top_regions_monthly = data.groupby(['Month', 'Address'])['Incident Number'].count().groupby(level=0, group_keys=False).nlargest(5)\n",
    "#incidents per week\n",
    "#data['Week'] = pd.to_datetime(data['Datetime']).dt.week\n",
    "#top_regions_weekly = df.groupby(['Week', 'Address'])['Incident Number'].count().groupby(level=0, group_keys=False).nlargest(5)\n",
    "#incidents per day\n",
    "data['Day'] = pd.to_datetime(data['Datetime']).dt.date\n",
    "top_regions_daily = data.groupby(['Day', 'Address'])['Incident Number'].count().groupby(level=0, group_keys=False).nlargest(5)"
   ]
  },
  {
   "cell_type": "code",
   "execution_count": null,
   "id": "c1c32639-b61c-48ac-8940-da5d4443d255",
   "metadata": {},
   "outputs": [],
   "source": [
    "print(top_regions_daily .head())"
   ]
  },
  {
   "cell_type": "code",
   "execution_count": null,
   "id": "6e395aac-fd8d-49fe-907f-5b039c3b0a3b",
   "metadata": {},
   "outputs": [],
   "source": [
    "print(top_regions_yearly .head())"
   ]
  },
  {
   "cell_type": "code",
   "execution_count": null,
   "id": "d9437f0d-b25c-40e7-93e4-f40e060c8dd4",
   "metadata": {},
   "outputs": [],
   "source": [
    "print(top_regions_monthly.head())"
   ]
  },
  {
   "cell_type": "code",
   "execution_count": null,
   "id": "bfee15b5-9200-4a3e-9916-eb5e897f4b95",
   "metadata": {},
   "outputs": [],
   "source": [
    "#popular incidents on a daily basis\n",
    "daily_popular_incidents = data.groupby(data['Datetime'].dt.date)['Type'].value_counts().groupby(level=0).idxmax()\n",
    "print(daily_popular_incidents.head())"
   ]
  },
  {
   "cell_type": "code",
   "execution_count": null,
   "id": "ef90a9a8-a85c-470f-97d7-5aa6d41357ad",
   "metadata": {},
   "outputs": [],
   "source": [
    "#popular incidents on weekdays and weekends\n",
    "weekday_popular_incidents = data[data['IsWeekend'] == False]['Type'].value_counts().idxmax()\n",
    "weekend_popular_incidents = data[data['IsWeekend'] == True]['Type'].value_counts().idxmax()\n",
    "print(weekday_popular_incidents)\n",
    "print(weekend_popular_incidents)"
   ]
  },
  {
   "cell_type": "code",
   "execution_count": null,
   "id": "32fcf67d-01ec-47b6-86a0-002ffb5e6869",
   "metadata": {},
   "outputs": [],
   "source": [
    "# regions that qualify for mobile emergency patrols\n",
    "data['Week'] = data['Datetime'].dt.strftime('%Y-%U')\n",
    "incident_counts = data.groupby(['Address', 'Type', 'Week']).size().reset_index(name='Count')\n",
    "qualified_regions = incident_counts[incident_counts['Count'] > 50]['Address'].unique()\n",
    "print(qualified_regions.tolist())"
   ]
  },
  {
   "cell_type": "code",
   "execution_count": null,
   "id": "7ada0e28-f665-454e-bea8-6327406d0978",
   "metadata": {},
   "outputs": [],
   "source": [
    "#how much revenue the private company makes for every year of its operation\n",
    "medevac_counts = (data['Type'] == 'Medic Response').groupby(data['Year']).size()\n",
    "firevac_counts = (data['Type'] == 'Fire Response').groupby(data['Year']).size()\n",
    "evacuation_counts = medevac_counts + firevac_counts\n",
    "rate_per_evacuation = 100\n",
    "revenue_per_year = evacuation_counts * rate_per_evacuation\n",
    "print(revenue_per_year)"
   ]
  },
  {
   "cell_type": "code",
   "execution_count": null,
   "id": "ba1ad248-f287-4fca-a494-3989aa1c032c",
   "metadata": {},
   "outputs": [],
   "source": []
  }
 ],
 "metadata": {
  "kernelspec": {
   "display_name": "Python 3 (ipykernel)",
   "language": "python",
   "name": "python3"
  },
  "language_info": {
   "codemirror_mode": {
    "name": "ipython",
    "version": 3
   },
   "file_extension": ".py",
   "mimetype": "text/x-python",
   "name": "python",
   "nbconvert_exporter": "python",
   "pygments_lexer": "ipython3",
   "version": "3.11.5"
  }
 },
 "nbformat": 4,
 "nbformat_minor": 5
}
